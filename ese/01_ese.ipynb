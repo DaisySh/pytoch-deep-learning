{
  "nbformat": 4,
  "nbformat_minor": 0,
  "metadata": {
    "colab": {
      "provenance": []
    },
    "kernelspec": {
      "name": "python3",
      "display_name": "Python 3"
    },
    "language_info": {
      "name": "python"
    }
  },
  "cells": [
    {
      "cell_type": "code",
      "execution_count": 14,
      "metadata": {
        "id": "l9GstcP5MIVf"
      },
      "outputs": [],
      "source": [
        "import torch\n",
        "import torch.nn as nn\n",
        "import matplotlib.pyplot as plt\n",
        "from pathlib import Path\n",
        "import numpy as np\n"
      ]
    },
    {
      "cell_type": "code",
      "source": [
        "# agnostic code\n",
        "device = \"cuda\" if torch.cuda.is_available() else \"cpu\"\n",
        "print(device)"
      ],
      "metadata": {
        "colab": {
          "base_uri": "https://localhost:8080/"
        },
        "id": "CHZoqn2aMjlQ",
        "outputId": "4870023a-b1ed-4754-c177-61186dad51f4"
      },
      "execution_count": 13,
      "outputs": [
        {
          "output_type": "stream",
          "name": "stdout",
          "text": [
            "cpu\n"
          ]
        }
      ]
    },
    {
      "cell_type": "code",
      "source": [
        "# create line\n",
        "weight = 0.3\n",
        "bias = 0.9\n",
        "X = torch.arange(start=0, end=1, step=0.01, device=device)\n",
        "y = weight*X + bias"
      ],
      "metadata": {
        "id": "hHoAzkgGNfBD"
      },
      "execution_count": 22,
      "outputs": []
    },
    {
      "cell_type": "code",
      "source": [
        "# create train/test split\n",
        "idx_split = int(len(X)*0.8)\n",
        "X_train = X[:idx_split]\n",
        "y_train = y[:idx_split]\n",
        "X_test = X[idx_split:]\n",
        "y_test = y[idx_split:]"
      ],
      "metadata": {
        "id": "qBXn2o2EPeHg"
      },
      "execution_count": 30,
      "outputs": []
    },
    {
      "cell_type": "code",
      "source": [
        "X_train.shape, X_test.shape"
      ],
      "metadata": {
        "colab": {
          "base_uri": "https://localhost:8080/"
        },
        "id": "DrF2FKubPqGJ",
        "outputId": "0595afc9-4af6-45ca-df92-944476bddbd3"
      },
      "execution_count": 33,
      "outputs": [
        {
          "output_type": "execute_result",
          "data": {
            "text/plain": [
              "(torch.Size([80]), torch.Size([20]))"
            ]
          },
          "metadata": {},
          "execution_count": 33
        }
      ]
    },
    {
      "cell_type": "code",
      "source": [
        "def scatter_plot(X_train, X_test, y_train, y_test, predictions=None):\n",
        "  plt.scatter(x=X_train, y=y_train, marker='^', c=\"b\")\n",
        "  plt.scatter(x=X_test, y=y_test, marker='*', c=\"r\")\n",
        "  if predictions is not None:\n",
        "    plt.scatter(x=X_test, y=predictions, marker='*', c=\"m\")\n",
        "\n",
        "  plt.legend(['train', 'test', 'predictions'])\n",
        "  plt.show()"
      ],
      "metadata": {
        "id": "D4vckosoQM-X"
      },
      "execution_count": 51,
      "outputs": []
    },
    {
      "cell_type": "code",
      "source": [
        "scatter_plot(X_train, X_test, y_train, y_test)"
      ],
      "metadata": {
        "colab": {
          "base_uri": "https://localhost:8080/",
          "height": 430
        },
        "id": "qUXOaxobRahm",
        "outputId": "c900e523-af3a-4b5c-9dc9-548e38410d69"
      },
      "execution_count": 54,
      "outputs": [
        {
          "output_type": "display_data",
          "data": {
            "text/plain": [
              "<Figure size 640x480 with 1 Axes>"
            ],
            "image/png": "[encoded data removed]"
          },
          "metadata": {}
        }
      ]
    },
    {
      "cell_type": "code",
      "source": [
        "# build a new class\n",
        "class LinearRegressionX(nn.Module):\n",
        "  def __init__(self):\n",
        "    super().__init__()\n",
        "    self.weight = nn.Parameter(torch.rand(1), requires_grad=True)\n",
        "    self.bias = nn.Parameter(torch.rand(1), requires_grad=True)\n",
        "  def forward(self, x):\n",
        "    return self.weight*x + self.bias"
      ],
      "metadata": {
        "id": "XTMz_1_uTgvE"
      },
      "execution_count": 81,
      "outputs": []
    },
    {
      "cell_type": "code",
      "source": [
        "modelx = LinearRegressionX()"
      ],
      "metadata": {
        "id": "aQkjHJWKXwKe"
      },
      "execution_count": 82,
      "outputs": []
    },
    {
      "cell_type": "code",
      "source": [
        "modelx.state_dict()"
      ],
      "metadata": {
        "colab": {
          "base_uri": "https://localhost:8080/"
        },
        "id": "MeaSpD9EXzeq",
        "outputId": "3abbfe63-baf2-4eb4-cdce-50b2eb439918"
      },
      "execution_count": 83,
      "outputs": [
        {
          "output_type": "execute_result",
          "data": {
            "text/plain": [
              "OrderedDict([('weight', tensor([0.7017])), ('bias', tensor([0.3987]))])"
            ]
          },
          "metadata": {},
          "execution_count": 83
        }
      ]
    },
    {
      "cell_type": "code",
      "source": [
        "loss_func = nn.L1Loss()\n",
        "optimizer = torch.optim.SGD(params=modelx.parameters(), lr=0.01)"
      ],
      "metadata": {
        "id": "UNkScygpX7up"
      },
      "execution_count": 84,
      "outputs": []
    },
    {
      "cell_type": "code",
      "source": [
        "# training/test loop\n",
        "epochs = 300\n",
        "epochs_step = 20\n",
        "\n",
        "for epoch in range(epochs):\n",
        "  # preparati per il train\n",
        "  modelx.train()\n",
        "  # fai predizione\n",
        "  y_pred = modelx(X_train)\n",
        "  # valuta la predizione\n",
        "  loss_train = loss_func(y_pred, y_train)\n",
        "  # azzera il gradiente\n",
        "  optimizer.zero_grad()\n",
        "  # calcola il gradiente della loss rispetto ai pesi\n",
        "  loss_train.backward()\n",
        "  # aggiorna i pesi\n",
        "  optimizer.step()\n",
        "\n",
        "  # preparati per il test\n",
        "  modelx.eval()\n",
        "  with torch.inference_mode():\n",
        "    y_pred_test = modelx(X_test)\n",
        "    loss_test = loss_func(y_pred_test, y_test)\n",
        "\n",
        "  if epoch % epochs_step == 0:\n",
        "    print(f\"{epoch} - Train loss {loss_train} | Test loss {loss_test}\")"
      ],
      "metadata": {
        "colab": {
          "base_uri": "https://localhost:8080/"
        },
        "id": "l-B24z4MYmCG",
        "outputId": "9e8296c6-bd8f-4472-baab-a54acb1d586d"
      },
      "execution_count": 85,
      "outputs": [
        {
          "output_type": "stream",
          "name": "stdout",
          "text": [
            "0 - Train loss 0.34264907240867615 | Test loss 0.128243088722229\n",
            "20 - Train loss 0.13533441722393036 | Test loss 0.12039818614721298\n",
            "40 - Train loss 0.0995025709271431 | Test loss 0.19423945248126984\n",
            "60 - Train loss 0.09054930508136749 | Test loss 0.20235271751880646\n",
            "80 - Train loss 0.0835345983505249 | Test loss 0.19225239753723145\n",
            "100 - Train loss 0.07668056339025497 | Test loss 0.17695720493793488\n",
            "120 - Train loss 0.06982653588056564 | Test loss 0.1616620123386383\n",
            "140 - Train loss 0.06297250837087631 | Test loss 0.14636678993701935\n",
            "160 - Train loss 0.056118469685316086 | Test loss 0.13107168674468994\n",
            "180 - Train loss 0.049264438450336456 | Test loss 0.11577650159597397\n",
            "200 - Train loss 0.04241332784295082 | Test loss 0.09944938868284225\n",
            "220 - Train loss 0.03556215763092041 | Test loss 0.08312192559242249\n",
            "240 - Train loss 0.028709983453154564 | Test loss 0.06713832914829254\n",
            "260 - Train loss 0.021858777850866318 | Test loss 0.05081075429916382\n",
            "280 - Train loss 0.01500758994370699 | Test loss 0.034483153373003006\n"
          ]
        }
      ]
    },
    {
      "cell_type": "code",
      "source": [
        "modelx.state_dict()"
      ],
      "metadata": {
        "colab": {
          "base_uri": "https://localhost:8080/"
        },
        "id": "ZkzkwqR1cfAX",
        "outputId": "66c3837b-da96-4777-b533-3d7392184e0c"
      },
      "execution_count": 86,
      "outputs": [
        {
          "output_type": "execute_result",
          "data": {
            "text/plain": [
              "OrderedDict([('weight', tensor([0.3406])), ('bias', tensor([0.8829]))])"
            ]
          },
          "metadata": {},
          "execution_count": 86
        }
      ]
    },
    {
      "cell_type": "code",
      "source": [
        "modelx.eval()\n",
        "with torch.inference_mode():\n",
        "  final_pred = modelx(X_test)\n",
        "\n",
        "\n",
        "scatter_plot(X_train, X_test, y_train, y_test, predictions=final_pred)"
      ],
      "metadata": {
        "colab": {
          "base_uri": "https://localhost:8080/",
          "height": 430
        },
        "id": "3Lmgb-u1cHZD",
        "outputId": "1df146c6-f50e-4add-c847-92e384956ea9"
      },
      "execution_count": 87,
      "outputs": [
        {
          "output_type": "display_data",
          "data": {
            "text/plain": [
              "<Figure size 640x480 with 1 Axes>"
            ],
            "image/png": "[encoded data removed]"
          },
          "metadata": {}
        }
      ]
    },
    {
      "cell_type": "code",
      "source": [
        "# crea cartella di salvataggio\n",
        "mpath = Path(\"ese-models\")\n",
        "mpath.mkdir(parents=True, exist_ok=True)\n",
        "\n",
        "# file\n",
        "model_save_path = mpath / \"01_ese_modelx.pth\"\n",
        "# salva modello\n",
        "torch.save(modelx.state_dict(), model_save_path)"
      ],
      "metadata": {
        "id": "J2FzLKNrdH4m"
      },
      "execution_count": 88,
      "outputs": []
    },
    {
      "cell_type": "code",
      "source": [
        "model_save_path"
      ],
      "metadata": {
        "colab": {
          "base_uri": "https://localhost:8080/"
        },
        "id": "E2GhFo6TfH30",
        "outputId": "3e556ee7-b67e-4299-be0c-2d9fd1cfb818"
      },
      "execution_count": 89,
      "outputs": [
        {
          "output_type": "execute_result",
          "data": {
            "text/plain": [
              "PosixPath('ese-models/01_ese_modelx.pth')"
            ]
          },
          "metadata": {},
          "execution_count": 89
        }
      ]
    },
    {
      "cell_type": "code",
      "source": [
        "# nuova istanza\n",
        "extra_model = LinearRegressionX()\n",
        "print(extra_model.state_dict())"
      ],
      "metadata": {
        "colab": {
          "base_uri": "https://localhost:8080/"
        },
        "id": "Ym1s4EurfJ1f",
        "outputId": "207a4755-71cb-4a10-da70-a848ac4c07a3"
      },
      "execution_count": 91,
      "outputs": [
        {
          "output_type": "stream",
          "name": "stdout",
          "text": [
            "OrderedDict([('weight', tensor([0.1687])), ('bias', tensor([0.4285]))])\n"
          ]
        }
      ]
    },
    {
      "cell_type": "code",
      "source": [
        "extra_model.load_state_dict(torch.load(model_save_path))\n",
        "print(extra_model.state_dict())"
      ],
      "metadata": {
        "colab": {
          "base_uri": "https://localhost:8080/"
        },
        "id": "YPw5NRYnfcEh",
        "outputId": "80cd3ec9-7e87-4f90-a2a4-dc5477478425"
      },
      "execution_count": 92,
      "outputs": [
        {
          "output_type": "stream",
          "name": "stdout",
          "text": [
            "OrderedDict([('weight', tensor([0.3406])), ('bias', tensor([0.8829]))])\n"
          ]
        }
      ]
    },
    {
      "cell_type": "code",
      "source": [
        "extra_model.eval()\n",
        "with torch.inference_mode():\n",
        "  extra_final_pred = extra_model(X_test)\n",
        "\n",
        "extra_final_pred == final_pred"
      ],
      "metadata": {
        "colab": {
          "base_uri": "https://localhost:8080/"
        },
        "id": "d76bUW4QfsjY",
        "outputId": "16b0b4ca-0568-402e-f480-e41ce8d48663"
      },
      "execution_count": 93,
      "outputs": [
        {
          "output_type": "execute_result",
          "data": {
            "text/plain": [
              "tensor([True, True, True, True, True, True, True, True, True, True, True, True,\n",
              "        True, True, True, True, True, True, True, True])"
            ]
          },
          "metadata": {},
          "execution_count": 93
        }
      ]
    },
    {
      "cell_type": "code",
      "source": [],
      "metadata": {
        "id": "aYq4FBStf8xQ"
      },
      "execution_count": null,
      "outputs": []
    }
  ]
}