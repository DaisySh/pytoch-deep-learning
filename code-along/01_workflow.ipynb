{
  "nbformat": 4,
  "nbformat_minor": 0,
  "metadata": {
    "colab": {
      "provenance": [],
      "gpuType": "T4"
    },
    "kernelspec": {
      "name": "python3",
      "display_name": "Python 3"
    },
    "language_info": {
      "name": "python"
    },
    "accelerator": "GPU"
  },
  "cells": [
    {
      "cell_type": "code",
      "execution_count": 1,
      "metadata": {
        "id": "S3F9QxMO0RF8"
      },
      "outputs": [],
      "source": [
        "import torch\n",
        "from torch import nn # neural networks building blocks\n",
        "import numpy as np\n",
        "import matplotlib.pyplot as plt"
      ]
    },
    {
      "cell_type": "code",
      "source": [
        "torch.__version__"
      ],
      "metadata": {
        "colab": {
          "base_uri": "https://localhost:8080/",
          "height": 40
        },
        "id": "yN4zWmgu0hcw",
        "outputId": "699390dd-29bb-4ed7-8027-30ec8e0450d4"
      },
      "execution_count": 2,
      "outputs": [
        {
          "output_type": "execute_result",
          "data": {
            "text/plain": [
              "'2.0.1+cu118'"
            ],
            "application/vnd.google.colaboratory.intrinsic+json": {
              "type": "string"
            }
          },
          "metadata": {},
          "execution_count": 2
        }
      ]
    },
    {
      "cell_type": "code",
      "source": [
        "# data prep and load\n",
        "weight = 0.7 # a\n",
        "bias = 0.3 # b\n",
        "\n",
        "# create some data\n",
        "start = 0\n",
        "end = 1\n",
        "step = 0.02\n",
        "X = torch.arange(start, end, step).unsqueeze(dim=1) # size = (50, 1)\n",
        "y = weight * X + bias # linear regression formula (y = ax + b)\n",
        "\n",
        "X[:10], y[:10]"
      ],
      "metadata": {
        "colab": {
          "base_uri": "https://localhost:8080/"
        },
        "id": "2dn0FKZk2woJ",
        "outputId": "6f342f50-232f-4b66-a173-7eee2504eee9"
      },
      "execution_count": 3,
      "outputs": [
        {
          "output_type": "execute_result",
          "data": {
            "text/plain": [
              "(tensor([[0.0000],\n",
              "         [0.0200],\n",
              "         [0.0400],\n",
              "         [0.0600],\n",
              "         [0.0800],\n",
              "         [0.1000],\n",
              "         [0.1200],\n",
              "         [0.1400],\n",
              "         [0.1600],\n",
              "         [0.1800]]),\n",
              " tensor([[0.3000],\n",
              "         [0.3140],\n",
              "         [0.3280],\n",
              "         [0.3420],\n",
              "         [0.3560],\n",
              "         [0.3700],\n",
              "         [0.3840],\n",
              "         [0.3980],\n",
              "         [0.4120],\n",
              "         [0.4260]]))"
            ]
          },
          "metadata": {},
          "execution_count": 3
        }
      ]
    },
    {
      "cell_type": "code",
      "source": [
        "len(X), len(y)"
      ],
      "metadata": {
        "colab": {
          "base_uri": "https://localhost:8080/"
        },
        "id": "7hg5_6xcGhTj",
        "outputId": "a7fc77d0-4953-458a-8d78-b4e44e7455ed"
      },
      "execution_count": 4,
      "outputs": [
        {
          "output_type": "execute_result",
          "data": {
            "text/plain": [
              "(50, 50)"
            ]
          },
          "metadata": {},
          "execution_count": 4
        }
      ]
    },
    {
      "cell_type": "code",
      "source": [
        "# split data: training set, test set, validation set\n",
        "# 80/20 train/test\n",
        "train_split = int(0.8 * len(X))\n",
        "X_train, y_train = X[:train_split], y[:train_split]\n",
        "X_test, y_test = X[train_split:], y[train_split:]\n",
        "len(X_train), len(X_test)"
      ],
      "metadata": {
        "colab": {
          "base_uri": "https://localhost:8080/"
        },
        "id": "HLLpCVscHFrx",
        "outputId": "bf71d65d-17ca-4915-fb18-7ff522cc56da"
      },
      "execution_count": 5,
      "outputs": [
        {
          "output_type": "execute_result",
          "data": {
            "text/plain": [
              "(40, 10)"
            ]
          },
          "metadata": {},
          "execution_count": 5
        }
      ]
    },
    {
      "cell_type": "code",
      "source": [
        "# visualize our X data\n",
        "def plot_prediction(train_data=X_train,\n",
        "                    train_labels=y_train,\n",
        "                    test_data=X_test,\n",
        "                    test_labels=y_test,\n",
        "                    predictions=None):\n",
        "  \"\"\"\n",
        "    Plots training/test data and compares predictions.\n",
        "  \"\"\"\n",
        "  plt.figure(figsize=(5, 3)) # other (10, 7)\n",
        "  # Plot taining data in magenta\n",
        "  plt.scatter(train_data, train_labels, c=\"m\", s=4, label=\"Training data\")\n",
        "  # Plot test data in black\n",
        "  plt.scatter(test_data, test_labels, c=\"k\", s=4, label=\"Testing data\")\n",
        "\n",
        "  if predictions is not None:\n",
        "    # Plot prediction in blue\n",
        "    plt.scatter(test_data, predictions, c=\"b\", s=4, label=\"Predictions\")\n",
        "\n",
        "  # add legend\n",
        "  plt.legend(prop={\"size\":9}) #font size is 9\n"
      ],
      "metadata": {
        "id": "9ZQ4Q2k9IosB"
      },
      "execution_count": 6,
      "outputs": []
    },
    {
      "cell_type": "code",
      "source": [
        "plot_prediction()"
      ],
      "metadata": {
        "colab": {
          "base_uri": "https://localhost:8080/",
          "height": 291
        },
        "id": "pDSqbx-RKdx7",
        "outputId": "461b207d-dbfc-4936-e41a-e2a2d0125a27"
      },
      "execution_count": 7,
      "outputs": [
        {
          "output_type": "display_data",
          "data": {
            "text/plain": [
              "<Figure size 500x300 with 1 Axes>"
            ],
            "image/png": "[encoded data removed]"
          },
          "metadata": {}
        }
      ]
    },
    {
      "cell_type": "code",
      "source": [
        "# build a linear regression model\n",
        "# nn.Parameter, what parameters our model should learn\n",
        "class LinearRegressionModel(nn.Module):\n",
        "  def __init__(self):\n",
        "    super().__init__()\n",
        "    # Initialize model parameters\n",
        "    self.weights = nn.Parameter(torch.randn(1,\n",
        "                                            requires_grad=True, # gradiant descent\n",
        "                                            dtype=torch.float))\n",
        "    self.bias = nn.Parameter(torch.randn(1,\n",
        "                                         requires_grad=True, # gradiant descent\n",
        "                                         dtype=torch.float))\n",
        "  # defines the computation in the model\n",
        "  # required from nn.Model\n",
        "  def forward(self, x: torch.Tensor) -> torch.Tensor:\n",
        "      return self.weights * x + self.bias"
      ],
      "metadata": {
        "id": "0Zl3LvQuKixC"
      },
      "execution_count": 8,
      "outputs": []
    },
    {
      "cell_type": "code",
      "source": [
        "# create a random seed\n",
        "torch.manual_seed(42)\n",
        "# create an instance of the model\n",
        "model_0 = LinearRegressionModel()\n",
        "\n",
        "# check out the parameters\n",
        "list(model_0.parameters())"
      ],
      "metadata": {
        "colab": {
          "base_uri": "https://localhost:8080/"
        },
        "id": "nKiNtSd-f24C",
        "outputId": "b2b9ed48-28b5-4674-af13-e0cf09155e64"
      },
      "execution_count": 9,
      "outputs": [
        {
          "output_type": "execute_result",
          "data": {
            "text/plain": [
              "[Parameter containing:\n",
              " tensor([0.3367], requires_grad=True),\n",
              " Parameter containing:\n",
              " tensor([0.1288], requires_grad=True)]"
            ]
          },
          "metadata": {},
          "execution_count": 9
        }
      ]
    },
    {
      "cell_type": "code",
      "source": [
        "# list named parameters\n",
        "model_0.state_dict()"
      ],
      "metadata": {
        "colab": {
          "base_uri": "https://localhost:8080/"
        },
        "id": "L6bguQdpyDbi",
        "outputId": "abcd748b-4017-4eee-d318-d944e1ff57f3"
      },
      "execution_count": 10,
      "outputs": [
        {
          "output_type": "execute_result",
          "data": {
            "text/plain": [
              "OrderedDict([('weights', tensor([0.3367])), ('bias', tensor([0.1288]))])"
            ]
          },
          "metadata": {},
          "execution_count": 10
        }
      ]
    },
    {
      "cell_type": "code",
      "source": [
        "# making predictions via torch.inference_mode()\n",
        "with torch.inference_mode(): # context manager, doesn't track the gradient since we are just testing\n",
        "  y_preds = model_0(X_test)\n",
        "\n",
        "y_preds"
      ],
      "metadata": {
        "colab": {
          "base_uri": "https://localhost:8080/"
        },
        "id": "eor3cZzQyt76",
        "outputId": "990a93af-b949-462d-c5eb-393d8a2a04b8"
      },
      "execution_count": 11,
      "outputs": [
        {
          "output_type": "execute_result",
          "data": {
            "text/plain": [
              "tensor([[0.3982],\n",
              "        [0.4049],\n",
              "        [0.4116],\n",
              "        [0.4184],\n",
              "        [0.4251],\n",
              "        [0.4318],\n",
              "        [0.4386],\n",
              "        [0.4453],\n",
              "        [0.4520],\n",
              "        [0.4588]])"
            ]
          },
          "metadata": {},
          "execution_count": 11
        }
      ]
    },
    {
      "cell_type": "code",
      "source": [
        "# previous version of torch.inference_mode()\n",
        "# does not track the gradient during inference/testing\n",
        "with torch.no_grad():\n",
        "  y_preds = model_0(X_test)\n",
        "y_preds"
      ],
      "metadata": {
        "colab": {
          "base_uri": "https://localhost:8080/"
        },
        "id": "02Ar3cFhz2CE",
        "outputId": "ea4f0715-d4f7-417c-b1c9-8f23b15f1796"
      },
      "execution_count": 12,
      "outputs": [
        {
          "output_type": "execute_result",
          "data": {
            "text/plain": [
              "tensor([[0.3982],\n",
              "        [0.4049],\n",
              "        [0.4116],\n",
              "        [0.4184],\n",
              "        [0.4251],\n",
              "        [0.4318],\n",
              "        [0.4386],\n",
              "        [0.4453],\n",
              "        [0.4520],\n",
              "        [0.4588]])"
            ]
          },
          "metadata": {},
          "execution_count": 12
        }
      ]
    },
    {
      "cell_type": "code",
      "source": [
        "plot_prediction(predictions=y_preds)"
      ],
      "metadata": {
        "colab": {
          "base_uri": "https://localhost:8080/",
          "height": 291
        },
        "id": "ZZe4EtHkzo_v",
        "outputId": "7c58b8f3-6cc4-4eb9-b212-14ac7539a5f8"
      },
      "execution_count": 13,
      "outputs": [
        {
          "output_type": "display_data",
          "data": {
            "text/plain": [
              "<Figure size 500x300 with 1 Axes>"
            ],
            "image/png": "[encoded data removed]"
          },
          "metadata": {}
        }
      ]
    },
    {
      "cell_type": "code",
      "source": [
        "# loss function/ cost function / criterion -- all the same concept!, It measures how poor the model predictions are with respect to the ideal outputs\n",
        "loss_fn = nn.L1Loss() # Mean Absolute Error avg(abs(x-x0))\n",
        "\n",
        "# Optimizer - take into account the loss and adjusts the model's parameters (weight, bias) to improve/minimize loss\n",
        "# Stocatic Gradient Descent\n",
        "optimizer = torch.optim.SGD(model_0.parameters(), # the model paramters\n",
        "                            0.01) # learning rate - the step with which the bias/weight will change"
      ],
      "metadata": {
        "id": "i5Zvqctf1aOi"
      },
      "execution_count": 14,
      "outputs": []
    },
    {
      "cell_type": "code",
      "source": [
        "# Training/Testing Loop\n",
        "# 0. loop through the data\n",
        "# 1. forward pass/propagation: from input to the output, make predictions\n",
        "# 2. calculate the loss (predictions vs ground truth)\n",
        "# 3. optimizer zero grad\n",
        "# 4. loss backward - move backwards through the network to compute the gradients of each of the paramenters of our model wrt the loss\n",
        "# 5. optimizer step - adjust model parameters to improve loss\n",
        "\n",
        "torch.manual_seed(42)\n",
        "\n",
        "# An epoch is one loop through the data\n",
        "epochs = 200\n",
        "\n",
        "# track different values\n",
        "epoch_count = []\n",
        "loss_values = []\n",
        "test_loss_values = []\n",
        "\n",
        "\n",
        "for epoch in range(epochs):\n",
        "  # set the model to training mode\n",
        "  model_0.train() # sets all parameters that need a gradient\n",
        "\n",
        "  # 1. forward\n",
        "  y_pred = model_0(X_train)\n",
        "\n",
        "  # 2. calculate the loss function\n",
        "  loss = loss_fn(y_pred, y_train)\n",
        "\n",
        "  # 3. optimizer zero grad\n",
        "  optimizer.zero_grad() # start fresh, every epoch\n",
        "\n",
        "  # 4. loss backward, backpropagation on the loss function (computes the gradient of every parameter with requires_grad=True)\n",
        "  loss.backward()\n",
        "\n",
        "  # 5. optimizer step SGD, update the parameters\n",
        "  optimizer.step()\n",
        "\n",
        "  ### Testing\n",
        "  model_0.eval() # turns off settings not needed in testing\n",
        "  with torch.inference_mode(): # the gradient tracking\n",
        "    # 0. do the forward pass\n",
        "    test_pred = model_0(X_test)\n",
        "    # 1. compute test loss\n",
        "    test_loss = loss_fn(test_pred, y_test)\n",
        "\n",
        "  if epoch % 10 == 0:\n",
        "    epoch_count.append(epoch)\n",
        "    loss_values.append(loss)\n",
        "    test_loss_values.append(test_loss)\n",
        "    print(f\"Epoch: {epoch} | Train Loss: {loss} | Test Loss: {test_loss}\")\n",
        "\n",
        "    # print weights/bias update\n",
        "    print(model_0.state_dict())"
      ],
      "metadata": {
        "colab": {
          "base_uri": "https://localhost:8080/"
        },
        "id": "xPXfsiS64GKp",
        "outputId": "4da36718-e4b4-42f3-e627-38a23a7816f0"
      },
      "execution_count": 15,
      "outputs": [
        {
          "output_type": "stream",
          "name": "stdout",
          "text": [
            "Epoch: 0 | Train Loss: 0.31288138031959534 | Test Loss: 0.48106518387794495\n",
            "OrderedDict([('weights', tensor([0.3406])), ('bias', tensor([0.1388]))])\n",
            "Epoch: 10 | Train Loss: 0.1976713240146637 | Test Loss: 0.3463551998138428\n",
            "OrderedDict([('weights', tensor([0.3796])), ('bias', tensor([0.2388]))])\n",
            "Epoch: 20 | Train Loss: 0.08908725529909134 | Test Loss: 0.21729660034179688\n",
            "OrderedDict([('weights', tensor([0.4184])), ('bias', tensor([0.3333]))])\n",
            "Epoch: 30 | Train Loss: 0.053148526698350906 | Test Loss: 0.14464017748832703\n",
            "OrderedDict([('weights', tensor([0.4512])), ('bias', tensor([0.3768]))])\n",
            "Epoch: 40 | Train Loss: 0.04543796554207802 | Test Loss: 0.11360953003168106\n",
            "OrderedDict([('weights', tensor([0.4748])), ('bias', tensor([0.3868]))])\n",
            "Epoch: 50 | Train Loss: 0.04167863354086876 | Test Loss: 0.09919948130846024\n",
            "OrderedDict([('weights', tensor([0.4938])), ('bias', tensor([0.3843]))])\n",
            "Epoch: 60 | Train Loss: 0.03818932920694351 | Test Loss: 0.08886633068323135\n",
            "OrderedDict([('weights', tensor([0.5116])), ('bias', tensor([0.3788]))])\n",
            "Epoch: 70 | Train Loss: 0.03476089984178543 | Test Loss: 0.0805937647819519\n",
            "OrderedDict([('weights', tensor([0.5288])), ('bias', tensor([0.3718]))])\n",
            "Epoch: 80 | Train Loss: 0.03132382780313492 | Test Loss: 0.07232122868299484\n",
            "OrderedDict([('weights', tensor([0.5459])), ('bias', tensor([0.3648]))])\n",
            "Epoch: 90 | Train Loss: 0.02788739837706089 | Test Loss: 0.06473556160926819\n",
            "OrderedDict([('weights', tensor([0.5629])), ('bias', tensor([0.3573]))])\n",
            "Epoch: 100 | Train Loss: 0.024458957836031914 | Test Loss: 0.05646304413676262\n",
            "OrderedDict([('weights', tensor([0.5800])), ('bias', tensor([0.3503]))])\n",
            "Epoch: 110 | Train Loss: 0.021020207554101944 | Test Loss: 0.04819049686193466\n",
            "OrderedDict([('weights', tensor([0.5972])), ('bias', tensor([0.3433]))])\n",
            "Epoch: 120 | Train Loss: 0.01758546568453312 | Test Loss: 0.04060482233762741\n",
            "OrderedDict([('weights', tensor([0.6141])), ('bias', tensor([0.3358]))])\n",
            "Epoch: 130 | Train Loss: 0.014155393466353416 | Test Loss: 0.03233227878808975\n",
            "OrderedDict([('weights', tensor([0.6313])), ('bias', tensor([0.3288]))])\n",
            "Epoch: 140 | Train Loss: 0.010716589167714119 | Test Loss: 0.024059748277068138\n",
            "OrderedDict([('weights', tensor([0.6485])), ('bias', tensor([0.3218]))])\n",
            "Epoch: 150 | Train Loss: 0.0072835334576666355 | Test Loss: 0.016474086791276932\n",
            "OrderedDict([('weights', tensor([0.6654])), ('bias', tensor([0.3143]))])\n",
            "Epoch: 160 | Train Loss: 0.0038517764769494534 | Test Loss: 0.008201557211577892\n",
            "OrderedDict([('weights', tensor([0.6826])), ('bias', tensor([0.3073]))])\n",
            "Epoch: 170 | Train Loss: 0.008932482451200485 | Test Loss: 0.005023092031478882\n",
            "OrderedDict([('weights', tensor([0.6951])), ('bias', tensor([0.2993]))])\n",
            "Epoch: 180 | Train Loss: 0.008932482451200485 | Test Loss: 0.005023092031478882\n",
            "OrderedDict([('weights', tensor([0.6951])), ('bias', tensor([0.2993]))])\n",
            "Epoch: 190 | Train Loss: 0.008932482451200485 | Test Loss: 0.005023092031478882\n",
            "OrderedDict([('weights', tensor([0.6951])), ('bias', tensor([0.2993]))])\n"
          ]
        }
      ]
    },
    {
      "cell_type": "code",
      "source": [
        "# plot loss curves\n",
        "# loss_values is a list, convert it in a tensor\n",
        "plt.plot(epoch_count, torch.tensor(loss_values), label=\"Train loss\")\n",
        "plt.plot(epoch_count, test_loss_values, label=\"Test loss\")\n",
        "plt.title(\"Training and test loss curves\")\n",
        "plt.ylabel(\"Loss\")\n",
        "plt.xlabel(\"Epochs\")\n",
        "plt.legend();"
      ],
      "metadata": {
        "colab": {
          "base_uri": "https://localhost:8080/",
          "height": 472
        },
        "id": "Laz0jTO2Fp6V",
        "outputId": "53963f5d-e3d0-46d8-c914-d9a0eec31015"
      },
      "execution_count": 16,
      "outputs": [
        {
          "output_type": "display_data",
          "data": {
            "text/plain": [
              "<Figure size 640x480 with 1 Axes>"
            ],
            "image/png": "[encoded data removed]"
          },
          "metadata": {}
        }
      ]
    },
    {
      "cell_type": "code",
      "source": [
        "with torch.inference_mode():\n",
        "  y_preds_new = model_0(X_test)\n",
        "\n",
        "plot_prediction(predictions=y_preds_new)"
      ],
      "metadata": {
        "colab": {
          "base_uri": "https://localhost:8080/",
          "height": 291
        },
        "id": "W-KZ8mN_K-xv",
        "outputId": "53039bb7-bef1-4448-9820-a92de1359a6f"
      },
      "execution_count": 17,
      "outputs": [
        {
          "output_type": "display_data",
          "data": {
            "text/plain": [
              "<Figure size 500x300 with 1 Axes>"
            ],
            "image/png": "[encoded data removed]"
          },
          "metadata": {}
        }
      ]
    },
    {
      "cell_type": "code",
      "source": [
        "# saving a model in pytorch\n",
        "from pathlib import Path\n",
        "\n",
        "# create model directory\n",
        "# MODEL_PATH = Path(\"models\") # in the current enviroment\n",
        "MODEL_PATH = Path(\"/content/drive/MyDrive/Colab Notebooks/models\") # on drive\n",
        "MODEL_PATH.mkdir(parents=True, exist_ok=True)\n",
        "\n",
        "# create a model save path\n",
        "MODEL_NAME = \"01_pytorch_workflow_model_0.pth\"\n",
        "MODEL_SAVE_PATH = MODEL_PATH / MODEL_NAME\n",
        "MODEL_SAVE_PATH\n",
        "\n",
        "# save the model state_dict\n",
        "print(f\"Saving model to {MODEL_SAVE_PATH}\")\n",
        "torch.save(model_0.state_dict(), MODEL_SAVE_PATH)"
      ],
      "metadata": {
        "colab": {
          "base_uri": "https://localhost:8080/"
        },
        "id": "kaNDaHOMHcJr",
        "outputId": "d515d962-e361-445f-93ae-c69ef0736c7d"
      },
      "execution_count": 18,
      "outputs": [
        {
          "output_type": "stream",
          "name": "stdout",
          "text": [
            "Saving model to /content/drive/MyDrive/Colab Notebooks/models/01_pytorch_workflow_model_0.pth\n"
          ]
        }
      ]
    },
    {
      "cell_type": "code",
      "source": [
        "!ls -la \"/content/drive/MyDrive/Colab Notebooks/\""
      ],
      "metadata": {
        "colab": {
          "base_uri": "https://localhost:8080/"
        },
        "id": "4K-qer-AHcCH",
        "outputId": "b563a284-db0f-45be-abfd-c94c4192a363"
      },
      "execution_count": 19,
      "outputs": [
        {
          "output_type": "stream",
          "name": "stdout",
          "text": [
            "total 241\n",
            "-rw------- 1 root root   8884 Jul 27 14:44 00_ese.ipynb\n",
            "-rw------- 1 root root  63060 Jul 27 11:13 00_fundamentals.ipynb\n",
            "-rw------- 1 root root 169401 Aug  4 14:46 01_workflow.ipynb\n",
            "drwx------ 2 root root   4096 Aug 13 09:02 models\n"
          ]
        }
      ]
    },
    {
      "cell_type": "code",
      "source": [
        "# load model via state_dict (we didn't save the whole model)\n",
        "model_00 = LinearRegressionModel() #subclass of nn.Module\n",
        "model_00.load_state_dict(torch.load(MODEL_SAVE_PATH))\n",
        "\n",
        "print(f\"original state dict: {model_0.state_dict()}\")\n",
        "print(f\"loaded state dict: {model_00.state_dict()}\")"
      ],
      "metadata": {
        "colab": {
          "base_uri": "https://localhost:8080/"
        },
        "id": "dsGCNRt5Hb56",
        "outputId": "855945d1-ea66-4ed5-cdcc-d1fafd25cd16"
      },
      "execution_count": 20,
      "outputs": [
        {
          "output_type": "stream",
          "name": "stdout",
          "text": [
            "original state dict: OrderedDict([('weights', tensor([0.6990])), ('bias', tensor([0.3093]))])\n",
            "loaded state dict: OrderedDict([('weights', tensor([0.6990])), ('bias', tensor([0.3093]))])\n"
          ]
        }
      ]
    },
    {
      "cell_type": "code",
      "source": [
        "# make some predictions\n",
        "model_00.eval()\n",
        "with torch.inference_mode():\n",
        "  loaded_preds = model_00(X_test)\n",
        "\n",
        "\n",
        "model_0.eval()\n",
        "with torch.inference_mode():\n",
        "  y_preds = model_0(X_test)\n",
        "\n",
        "# compare\n",
        "loaded_preds == y_preds"
      ],
      "metadata": {
        "colab": {
          "base_uri": "https://localhost:8080/"
        },
        "id": "-Kx9S-NuHbve",
        "outputId": "430787e2-fda8-4fb6-d056-47349998e7dc"
      },
      "execution_count": 21,
      "outputs": [
        {
          "output_type": "execute_result",
          "data": {
            "text/plain": [
              "tensor([[True],\n",
              "        [True],\n",
              "        [True],\n",
              "        [True],\n",
              "        [True],\n",
              "        [True],\n",
              "        [True],\n",
              "        [True],\n",
              "        [True],\n",
              "        [True]])"
            ]
          },
          "metadata": {},
          "execution_count": 21
        }
      ]
    },
    {
      "cell_type": "code",
      "source": [
        "# Putting it all together\n",
        "import torch\n",
        "from torch import nn\n",
        "import matplotlib.pyplot as plt\n",
        "\n",
        "torch.__version__"
      ],
      "metadata": {
        "colab": {
          "base_uri": "https://localhost:8080/",
          "height": 40
        },
        "id": "EiE1PmxBToOO",
        "outputId": "3d78f83d-52b3-4ab2-b392-f5d68d892d99"
      },
      "execution_count": 22,
      "outputs": [
        {
          "output_type": "execute_result",
          "data": {
            "text/plain": [
              "'2.0.1+cu118'"
            ],
            "application/vnd.google.colaboratory.intrinsic+json": {
              "type": "string"
            }
          },
          "metadata": {},
          "execution_count": 22
        }
      ]
    },
    {
      "cell_type": "code",
      "source": [
        "device = \"cuda\" if torch.cuda.is_available() else \"cpu\"\n",
        "print(device)"
      ],
      "metadata": {
        "colab": {
          "base_uri": "https://localhost:8080/"
        },
        "id": "qNTaDuzqw8xS",
        "outputId": "ac0b6cab-13b3-4805-cb15-016f63990477"
      },
      "execution_count": 23,
      "outputs": [
        {
          "output_type": "stream",
          "name": "stdout",
          "text": [
            "cuda\n"
          ]
        }
      ]
    },
    {
      "cell_type": "code",
      "source": [
        "!nvidia-smi"
      ],
      "metadata": {
        "colab": {
          "base_uri": "https://localhost:8080/"
        },
        "id": "UrrFMPpkxTsi",
        "outputId": "46b7b17b-34f2-454a-b0b0-2843c2c0ca72"
      },
      "execution_count": 24,
      "outputs": [
        {
          "output_type": "stream",
          "name": "stdout",
          "text": [
            "Sun Aug 13 09:02:06 2023       \n",
            "+-----------------------------------------------------------------------------+\n",
            "| NVIDIA-SMI 525.105.17   Driver Version: 525.105.17   CUDA Version: 12.0     |\n",
            "|-------------------------------+----------------------+----------------------+\n",
            "| GPU  Name        Persistence-M| Bus-Id        Disp.A | Volatile Uncorr. ECC |\n",
            "| Fan  Temp  Perf  Pwr:Usage/Cap|         Memory-Usage | GPU-Util  Compute M. |\n",
            "|                               |                      |               MIG M. |\n",
            "|===============================+======================+======================|\n",
            "|   0  Tesla T4            Off  | 00000000:00:04.0 Off |                    0 |\n",
            "| N/A   49C    P8    10W /  70W |      3MiB / 15360MiB |      0%      Default |\n",
            "|                               |                      |                  N/A |\n",
            "+-------------------------------+----------------------+----------------------+\n",
            "                                                                               \n",
            "+-----------------------------------------------------------------------------+\n",
            "| Processes:                                                                  |\n",
            "|  GPU   GI   CI        PID   Type   Process name                  GPU Memory |\n",
            "|        ID   ID                                                   Usage      |\n",
            "|=============================================================================|\n",
            "|  No running processes found                                                 |\n",
            "+-----------------------------------------------------------------------------+\n"
          ]
        }
      ]
    },
    {
      "cell_type": "code",
      "source": [
        "# build data\n",
        "weight = 0.9\n",
        "bias = 0.4\n",
        "\n",
        "start = 0\n",
        "end = 1\n",
        "step = 0.015\n",
        "X = torch.arange(start, end, step).unsqueeze(dim=1)\n",
        "y = X*weight + bias\n",
        "\n",
        "X[:5], y[:5]"
      ],
      "metadata": {
        "colab": {
          "base_uri": "https://localhost:8080/"
        },
        "id": "Eor_Qg7txfdT",
        "outputId": "2b04f55a-bea2-440c-d822-13c7f856935e"
      },
      "execution_count": 25,
      "outputs": [
        {
          "output_type": "execute_result",
          "data": {
            "text/plain": [
              "(tensor([[0.0000],\n",
              "         [0.0150],\n",
              "         [0.0300],\n",
              "         [0.0450],\n",
              "         [0.0600]]),\n",
              " tensor([[0.4000],\n",
              "         [0.4135],\n",
              "         [0.4270],\n",
              "         [0.4405],\n",
              "         [0.4540]]))"
            ]
          },
          "metadata": {},
          "execution_count": 25
        }
      ]
    },
    {
      "cell_type": "code",
      "source": [
        "# split data\n",
        "train_split = int(0.8*len(X))\n",
        "X_train, y_train = X[:train_split], y[:train_split]\n",
        "X_test, y_test = X[train_split:], y[train_split:]\n",
        "len(X_train), len(y_train), len(X_test), len(y_test)"
      ],
      "metadata": {
        "colab": {
          "base_uri": "https://localhost:8080/"
        },
        "id": "vAjfDsSTyShR",
        "outputId": "aaf4d5a6-738b-490c-e797-d0f17df7aaa8"
      },
      "execution_count": 26,
      "outputs": [
        {
          "output_type": "execute_result",
          "data": {
            "text/plain": [
              "(53, 53, 14, 14)"
            ]
          },
          "metadata": {},
          "execution_count": 26
        }
      ]
    },
    {
      "cell_type": "code",
      "source": [
        "plot_prediction(X_train, y_train, X_test, y_test)"
      ],
      "metadata": {
        "colab": {
          "base_uri": "https://localhost:8080/",
          "height": 291
        },
        "id": "GcH6bW-kyxxV",
        "outputId": "f3bcb12a-e02e-4a5e-b9d6-4b793bc9cb00"
      },
      "execution_count": 27,
      "outputs": [
        {
          "output_type": "display_data",
          "data": {
            "text/plain": [
              "<Figure size 500x300 with 1 Axes>"
            ],
            "image/png": "[encoded data removed]"
          },
          "metadata": {}
        }
      ]
    },
    {
      "cell_type": "code",
      "source": [
        "# build model\n",
        "class LinearRegressionModelX(nn.Module):\n",
        "\n",
        "  def __init__(self):\n",
        "    super().__init__()\n",
        "    # vesion 0\n",
        "    #self.weight = nn.Parameter(torch.rand(size=(1,), requires_grad=True, device=device))\n",
        "    #self.bias = nn.Parameter(torch.rand(size=(1,), requires_grad=True, device=device))\n",
        "    self.linear_layer = nn.Linear(in_features=1, out_features=1)\n",
        "\n",
        "  def forward(self, x: torch.tensor) -> torch.tensor:\n",
        "    # return  x*self.weight + self.bias\n",
        "    return self.linear_layer(x)\n",
        "\n",
        "\n",
        "torch.manual_seed(22)\n",
        "model_1 = LinearRegressionModelX()\n",
        "model_1, model_1.state_dict()"
      ],
      "metadata": {
        "colab": {
          "base_uri": "https://localhost:8080/"
        },
        "id": "-iOHxU1Ay-Cq",
        "outputId": "7bbb36bc-ed7f-427a-e167-93231fa4f791"
      },
      "execution_count": 28,
      "outputs": [
        {
          "output_type": "execute_result",
          "data": {
            "text/plain": [
              "(LinearRegressionModelX(\n",
              "   (linear_layer): Linear(in_features=1, out_features=1, bias=True)\n",
              " ),\n",
              " OrderedDict([('linear_layer.weight', tensor([[-0.2682]])),\n",
              "              ('linear_layer.bias', tensor([0.4050]))]))"
            ]
          },
          "metadata": {},
          "execution_count": 28
        }
      ]
    },
    {
      "cell_type": "code",
      "source": [
        "# model to gpu/device\n",
        "print(next(model_1.parameters()).device)\n",
        "model_1.to(device) # send model to GPU\n",
        "print(next(model_1.parameters()).device)\n",
        "\n",
        "\n",
        "# data to gpu/device\n",
        "X_train = X_train.to(device)\n",
        "X_test = X_test.to(device)\n",
        "y_train = y_train.to(device)\n",
        "y_test = y_test.to(device)"
      ],
      "metadata": {
        "colab": {
          "base_uri": "https://localhost:8080/"
        },
        "id": "XWAY34WYzo3e",
        "outputId": "460eab0f-a9d2-4964-e246-14ae8b6c9193"
      },
      "execution_count": 29,
      "outputs": [
        {
          "output_type": "stream",
          "name": "stdout",
          "text": [
            "cpu\n",
            "cuda:0\n"
          ]
        }
      ]
    },
    {
      "cell_type": "code",
      "source": [
        "# loss and optimizer\n",
        "loss_fn = nn.L1Loss()\n",
        "optimizer = torch.optim.SGD(params=model_1.parameters(), lr=0.1)"
      ],
      "metadata": {
        "id": "EDCPVHFIzqNe"
      },
      "execution_count": 30,
      "outputs": []
    },
    {
      "cell_type": "code",
      "source": [
        "# training\n",
        "torch.manual_seed(134)\n",
        "epochs = 300\n",
        "\n",
        "for epoch in range(epochs):\n",
        "  model_1.train()\n",
        "\n",
        "  # forward pass\n",
        "  y_pred = model_1(X_train)\n",
        "\n",
        "  # loss\n",
        "  loss = loss_fn(y_pred, y_train)\n",
        "\n",
        "  # zero_grad\n",
        "  optimizer.zero_grad()\n",
        "\n",
        "  # backprop\n",
        "  loss.backward()\n",
        "\n",
        "  # optim step/direction\n",
        "  optimizer.step()\n",
        "\n",
        "  ## testing\n",
        "  model_1.eval()\n",
        "  with torch.inference_mode():\n",
        "    test_pred = model_1(X_test)\n",
        "    test_loss = loss_fn(test_pred, y_test)\n",
        "\n",
        "  # print out\n",
        "  if epoch % 20:\n",
        "    print(f\"E:{epoch} Train Loss:{loss} | Test Loss:{test_loss}\")"
      ],
      "metadata": {
        "colab": {
          "base_uri": "https://localhost:8080/"
        },
        "id": "eFaUFrYM47tV",
        "outputId": "98efb367-4f39-476c-add1-88b8f3f29679"
      },
      "execution_count": 31,
      "outputs": [
        {
          "output_type": "stream",
          "name": "stdout",
          "text": [
            "E:1 Train Loss:0.3524603247642517 | Test Loss:0.7951359152793884\n",
            "E:2 Train Loss:0.2870626747608185 | Test Loss:0.7046163082122803\n",
            "E:3 Train Loss:0.24590112268924713 | Test Loss:0.6317170858383179\n",
            "E:4 Train Loss:0.22029906511306763 | Test Loss:0.5772464275360107\n",
            "E:5 Train Loss:0.20508277416229248 | Test Loss:0.5322932004928589\n",
            "E:6 Train Loss:0.19479317963123322 | Test Loss:0.4970594346523285\n",
            "E:7 Train Loss:0.18779431283473969 | Test Loss:0.4717472195625305\n",
            "E:8 Train Loss:0.18276992440223694 | Test Loss:0.45147156715393066\n",
            "E:9 Train Loss:0.17848917841911316 | Test Loss:0.4311958849430084\n",
            "E:10 Train Loss:0.1745813935995102 | Test Loss:0.41600731015205383\n",
            "E:11 Train Loss:0.17098276317119598 | Test Loss:0.40595629811286926\n",
            "E:12 Train Loss:0.16756342351436615 | Test Loss:0.3959052860736847\n",
            "E:13 Train Loss:0.16414408385753632 | Test Loss:0.3858542740345001\n",
            "E:14 Train Loss:0.16072477400302887 | Test Loss:0.37580326199531555\n",
            "E:15 Train Loss:0.15730544924736023 | Test Loss:0.365752249956131\n",
            "E:16 Train Loss:0.1538861095905304 | Test Loss:0.3557012379169464\n",
            "E:17 Train Loss:0.1504705250263214 | Test Loss:0.3508383333683014\n",
            "E:18 Train Loss:0.1471128612756729 | Test Loss:0.3407873511314392\n",
            "E:19 Train Loss:0.14369355142116547 | Test Loss:0.33073630928993225\n",
            "E:21 Train Loss:0.1369202882051468 | Test Loss:0.3158224821090698\n",
            "E:22 Train Loss:0.13350096344947815 | Test Loss:0.30577147006988525\n",
            "E:23 Train Loss:0.13014277815818787 | Test Loss:0.300908625125885\n",
            "E:24 Train Loss:0.12672771513462067 | Test Loss:0.29085761308670044\n",
            "E:25 Train Loss:0.12333279848098755 | Test Loss:0.2859947383403778\n",
            "E:26 Train Loss:0.11995447427034378 | Test Loss:0.27594369649887085\n",
            "E:27 Train Loss:0.11653513461351395 | Test Loss:0.2658926844596863\n",
            "E:28 Train Loss:0.11316892504692078 | Test Loss:0.26102980971336365\n",
            "E:29 Train Loss:0.10976188629865646 | Test Loss:0.25097882747650146\n",
            "E:30 Train Loss:0.10635896027088165 | Test Loss:0.24611596763134003\n",
            "E:31 Train Loss:0.10298863053321838 | Test Loss:0.23606492578983307\n",
            "E:32 Train Loss:0.09956930577754974 | Test Loss:0.2260139137506485\n",
            "E:33 Train Loss:0.09619507938623428 | Test Loss:0.22115105390548706\n",
            "E:34 Train Loss:0.09279604256153107 | Test Loss:0.2111000120639801\n",
            "E:35 Train Loss:0.08938510715961456 | Test Loss:0.20623715221881866\n",
            "E:36 Train Loss:0.08602280169725418 | Test Loss:0.1961861550807953\n",
            "E:37 Train Loss:0.08260347694158554 | Test Loss:0.18613512814044952\n",
            "E:38 Train Loss:0.0792212262749672 | Test Loss:0.1812722384929657\n",
            "E:39 Train Loss:0.07583022862672806 | Test Loss:0.1712213009595871\n",
            "E:41 Train Loss:0.06905697286128998 | Test Loss:0.1563074290752411\n",
            "E:42 Train Loss:0.06563764810562134 | Test Loss:0.14625641703605652\n",
            "E:43 Train Loss:0.062247384339571 | Test Loss:0.14139357209205627\n",
            "E:44 Train Loss:0.058864399790763855 | Test Loss:0.1313425749540329\n",
            "E:45 Train Loss:0.05544507876038551 | Test Loss:0.12129154801368713\n",
            "E:46 Train Loss:0.05208350345492363 | Test Loss:0.11642871797084808\n",
            "E:47 Train Loss:0.04867183044552803 | Test Loss:0.1063777506351471\n",
            "E:48 Train Loss:0.0452735461294651 | Test Loss:0.10151488333940506\n",
            "E:49 Train Loss:0.041898585855960846 | Test Loss:0.09146390855312347\n",
            "E:50 Train Loss:0.038479264825582504 | Test Loss:0.08141294121742249\n",
            "E:51 Train Loss:0.03510967269539833 | Test Loss:0.07655006647109985\n",
            "E:52 Train Loss:0.03170601278543472 | Test Loss:0.06649909913539886\n",
            "E:53 Train Loss:0.028299717232584953 | Test Loss:0.061636194586753845\n",
            "E:54 Train Loss:0.024950850754976273 | Test Loss:0.04644760116934776\n",
            "E:55 Train Loss:0.021706266328692436 | Test Loss:0.05211252346634865\n",
            "E:56 Train Loss:0.01895427703857422 | Test Loss:0.016878750175237656\n",
            "E:57 Train Loss:0.019465964287519455 | Test Loss:0.09589985013008118\n",
            "E:58 Train Loss:0.05393756926059723 | Test Loss:0.03890763223171234\n",
            "E:59 Train Loss:0.061272408813238144 | Test Loss:0.09589985013008118\n",
            "E:61 Train Loss:0.061272408813238144 | Test Loss:0.09589985013008118\n",
            "E:62 Train Loss:0.05393756926059723 | Test Loss:0.03890763223171234\n",
            "E:63 Train Loss:0.061272408813238144 | Test Loss:0.09589985013008118\n",
            "E:64 Train Loss:0.05393756926059723 | Test Loss:0.03890763223171234\n",
            "E:65 Train Loss:0.061272408813238144 | Test Loss:0.09589985013008118\n",
            "E:66 Train Loss:0.05393756926059723 | Test Loss:0.03890763223171234\n",
            "E:67 Train Loss:0.061272408813238144 | Test Loss:0.09589985013008118\n",
            "E:68 Train Loss:0.05393756926059723 | Test Loss:0.03890763223171234\n",
            "E:69 Train Loss:0.061272408813238144 | Test Loss:0.09589985013008118\n",
            "E:70 Train Loss:0.05393756926059723 | Test Loss:0.03890763223171234\n",
            "E:71 Train Loss:0.061272408813238144 | Test Loss:0.09589985013008118\n",
            "E:72 Train Loss:0.05393756926059723 | Test Loss:0.03890763223171234\n",
            "E:73 Train Loss:0.061272408813238144 | Test Loss:0.09589985013008118\n",
            "E:74 Train Loss:0.05393756926059723 | Test Loss:0.03890763223171234\n",
            "E:75 Train Loss:0.061272408813238144 | Test Loss:0.09589985013008118\n",
            "E:76 Train Loss:0.05393756926059723 | Test Loss:0.03890763223171234\n",
            "E:77 Train Loss:0.061272408813238144 | Test Loss:0.09589985013008118\n",
            "E:78 Train Loss:0.05393756926059723 | Test Loss:0.03890763223171234\n",
            "E:79 Train Loss:0.061272408813238144 | Test Loss:0.09589985013008118\n",
            "E:81 Train Loss:0.061272408813238144 | Test Loss:0.09589985013008118\n",
            "E:82 Train Loss:0.05393756926059723 | Test Loss:0.03890763223171234\n",
            "E:83 Train Loss:0.061272408813238144 | Test Loss:0.09589985013008118\n",
            "E:84 Train Loss:0.05393756926059723 | Test Loss:0.03890763223171234\n",
            "E:85 Train Loss:0.061272408813238144 | Test Loss:0.09589985013008118\n",
            "E:86 Train Loss:0.05393756926059723 | Test Loss:0.03890763223171234\n",
            "E:87 Train Loss:0.061272408813238144 | Test Loss:0.09589985013008118\n",
            "E:88 Train Loss:0.05393756926059723 | Test Loss:0.03890763223171234\n",
            "E:89 Train Loss:0.061272408813238144 | Test Loss:0.09589985013008118\n",
            "E:90 Train Loss:0.05393756926059723 | Test Loss:0.03890763223171234\n",
            "E:91 Train Loss:0.061272408813238144 | Test Loss:0.09589985013008118\n",
            "E:92 Train Loss:0.05393756926059723 | Test Loss:0.03890763223171234\n",
            "E:93 Train Loss:0.061272408813238144 | Test Loss:0.09589985013008118\n",
            "E:94 Train Loss:0.05393756926059723 | Test Loss:0.03890763223171234\n",
            "E:95 Train Loss:0.061272408813238144 | Test Loss:0.09589985013008118\n",
            "E:96 Train Loss:0.05393756926059723 | Test Loss:0.03890763223171234\n",
            "E:97 Train Loss:0.061272408813238144 | Test Loss:0.09589985013008118\n",
            "E:98 Train Loss:0.05393756926059723 | Test Loss:0.03890763223171234\n",
            "E:99 Train Loss:0.061272408813238144 | Test Loss:0.09589985013008118\n",
            "E:101 Train Loss:0.061272408813238144 | Test Loss:0.09589985013008118\n",
            "E:102 Train Loss:0.05393756926059723 | Test Loss:0.03890763223171234\n",
            "E:103 Train Loss:0.061272408813238144 | Test Loss:0.09589985013008118\n",
            "E:104 Train Loss:0.05393756926059723 | Test Loss:0.03890763223171234\n",
            "E:105 Train Loss:0.061272408813238144 | Test Loss:0.09589985013008118\n",
            "E:106 Train Loss:0.05393756926059723 | Test Loss:0.03890763223171234\n",
            "E:107 Train Loss:0.061272408813238144 | Test Loss:0.09589985013008118\n",
            "E:108 Train Loss:0.05393756926059723 | Test Loss:0.03890763223171234\n",
            "E:109 Train Loss:0.061272408813238144 | Test Loss:0.09589985013008118\n",
            "E:110 Train Loss:0.05393756926059723 | Test Loss:0.03890763223171234\n",
            "E:111 Train Loss:0.061272408813238144 | Test Loss:0.09589985013008118\n",
            "E:112 Train Loss:0.05393756926059723 | Test Loss:0.03890763223171234\n",
            "E:113 Train Loss:0.061272408813238144 | Test Loss:0.09589985013008118\n",
            "E:114 Train Loss:0.05393756926059723 | Test Loss:0.03890763223171234\n",
            "E:115 Train Loss:0.061272408813238144 | Test Loss:0.09589985013008118\n",
            "E:116 Train Loss:0.05393756926059723 | Test Loss:0.03890763223171234\n",
            "E:117 Train Loss:0.061272408813238144 | Test Loss:0.09589985013008118\n",
            "E:118 Train Loss:0.05393756926059723 | Test Loss:0.03890763223171234\n",
            "E:119 Train Loss:0.061272408813238144 | Test Loss:0.09589985013008118\n",
            "E:121 Train Loss:0.061272408813238144 | Test Loss:0.09589985013008118\n",
            "E:122 Train Loss:0.05393756926059723 | Test Loss:0.03890763223171234\n",
            "E:123 Train Loss:0.061272408813238144 | Test Loss:0.09589985013008118\n",
            "E:124 Train Loss:0.05393756926059723 | Test Loss:0.03890763223171234\n",
            "E:125 Train Loss:0.061272408813238144 | Test Loss:0.09589985013008118\n",
            "E:126 Train Loss:0.05393756926059723 | Test Loss:0.03890763223171234\n",
            "E:127 Train Loss:0.061272408813238144 | Test Loss:0.09589985013008118\n",
            "E:128 Train Loss:0.05393756926059723 | Test Loss:0.03890763223171234\n",
            "E:129 Train Loss:0.061272408813238144 | Test Loss:0.09589985013008118\n",
            "E:130 Train Loss:0.05393756926059723 | Test Loss:0.03890763223171234\n",
            "E:131 Train Loss:0.061272408813238144 | Test Loss:0.09589985013008118\n",
            "E:132 Train Loss:0.05393756926059723 | Test Loss:0.03890763223171234\n",
            "E:133 Train Loss:0.061272408813238144 | Test Loss:0.09589985013008118\n",
            "E:134 Train Loss:0.05393756926059723 | Test Loss:0.03890763223171234\n",
            "E:135 Train Loss:0.061272408813238144 | Test Loss:0.09589985013008118\n",
            "E:136 Train Loss:0.05393756926059723 | Test Loss:0.03890763223171234\n",
            "E:137 Train Loss:0.061272408813238144 | Test Loss:0.09589985013008118\n",
            "E:138 Train Loss:0.05393756926059723 | Test Loss:0.03890763223171234\n",
            "E:139 Train Loss:0.061272408813238144 | Test Loss:0.09589985013008118\n",
            "E:141 Train Loss:0.061272408813238144 | Test Loss:0.09589985013008118\n",
            "E:142 Train Loss:0.05393756926059723 | Test Loss:0.03890763223171234\n",
            "E:143 Train Loss:0.061272408813238144 | Test Loss:0.09589985013008118\n",
            "E:144 Train Loss:0.05393756926059723 | Test Loss:0.03890763223171234\n",
            "E:145 Train Loss:0.061272408813238144 | Test Loss:0.09589985013008118\n",
            "E:146 Train Loss:0.05393756926059723 | Test Loss:0.03890763223171234\n",
            "E:147 Train Loss:0.061272408813238144 | Test Loss:0.09589985013008118\n",
            "E:148 Train Loss:0.05393756926059723 | Test Loss:0.03890763223171234\n",
            "E:149 Train Loss:0.061272408813238144 | Test Loss:0.09589985013008118\n",
            "E:150 Train Loss:0.05393756926059723 | Test Loss:0.03890763223171234\n",
            "E:151 Train Loss:0.061272408813238144 | Test Loss:0.09589985013008118\n",
            "E:152 Train Loss:0.05393756926059723 | Test Loss:0.03890763223171234\n",
            "E:153 Train Loss:0.061272408813238144 | Test Loss:0.09589985013008118\n",
            "E:154 Train Loss:0.05393756926059723 | Test Loss:0.03890763223171234\n",
            "E:155 Train Loss:0.061272408813238144 | Test Loss:0.09589985013008118\n",
            "E:156 Train Loss:0.05393756926059723 | Test Loss:0.03890763223171234\n",
            "E:157 Train Loss:0.061272408813238144 | Test Loss:0.09589985013008118\n",
            "E:158 Train Loss:0.05393756926059723 | Test Loss:0.03890763223171234\n",
            "E:159 Train Loss:0.061272408813238144 | Test Loss:0.09589985013008118\n",
            "E:161 Train Loss:0.061272408813238144 | Test Loss:0.09589985013008118\n",
            "E:162 Train Loss:0.05393756926059723 | Test Loss:0.03890763223171234\n",
            "E:163 Train Loss:0.061272408813238144 | Test Loss:0.09589985013008118\n",
            "E:164 Train Loss:0.05393756926059723 | Test Loss:0.03890763223171234\n",
            "E:165 Train Loss:0.061272408813238144 | Test Loss:0.09589985013008118\n",
            "E:166 Train Loss:0.05393756926059723 | Test Loss:0.03890763223171234\n",
            "E:167 Train Loss:0.061272408813238144 | Test Loss:0.09589985013008118\n",
            "E:168 Train Loss:0.05393756926059723 | Test Loss:0.03890763223171234\n",
            "E:169 Train Loss:0.061272408813238144 | Test Loss:0.09589985013008118\n",
            "E:170 Train Loss:0.05393756926059723 | Test Loss:0.03890763223171234\n",
            "E:171 Train Loss:0.061272408813238144 | Test Loss:0.09589985013008118\n",
            "E:172 Train Loss:0.05393756926059723 | Test Loss:0.03890763223171234\n",
            "E:173 Train Loss:0.061272408813238144 | Test Loss:0.09589985013008118\n",
            "E:174 Train Loss:0.05393756926059723 | Test Loss:0.03890763223171234\n",
            "E:175 Train Loss:0.061272408813238144 | Test Loss:0.09589985013008118\n",
            "E:176 Train Loss:0.05393756926059723 | Test Loss:0.03890763223171234\n",
            "E:177 Train Loss:0.061272408813238144 | Test Loss:0.09589985013008118\n",
            "E:178 Train Loss:0.05393756926059723 | Test Loss:0.03890763223171234\n",
            "E:179 Train Loss:0.061272408813238144 | Test Loss:0.09589985013008118\n",
            "E:181 Train Loss:0.061272408813238144 | Test Loss:0.09589985013008118\n",
            "E:182 Train Loss:0.05393756926059723 | Test Loss:0.03890763223171234\n",
            "E:183 Train Loss:0.061272408813238144 | Test Loss:0.09589985013008118\n",
            "E:184 Train Loss:0.05393756926059723 | Test Loss:0.03890763223171234\n",
            "E:185 Train Loss:0.061272408813238144 | Test Loss:0.09589985013008118\n",
            "E:186 Train Loss:0.05393756926059723 | Test Loss:0.03890763223171234\n",
            "E:187 Train Loss:0.061272408813238144 | Test Loss:0.09589985013008118\n",
            "E:188 Train Loss:0.05393756926059723 | Test Loss:0.03890763223171234\n",
            "E:189 Train Loss:0.061272408813238144 | Test Loss:0.09589985013008118\n",
            "E:190 Train Loss:0.05393756926059723 | Test Loss:0.03890763223171234\n",
            "E:191 Train Loss:0.061272408813238144 | Test Loss:0.09589985013008118\n",
            "E:192 Train Loss:0.05393756926059723 | Test Loss:0.03890763223171234\n",
            "E:193 Train Loss:0.061272408813238144 | Test Loss:0.09589985013008118\n",
            "E:194 Train Loss:0.05393756926059723 | Test Loss:0.03890763223171234\n",
            "E:195 Train Loss:0.061272408813238144 | Test Loss:0.09589985013008118\n",
            "E:196 Train Loss:0.05393756926059723 | Test Loss:0.03890763223171234\n",
            "E:197 Train Loss:0.061272408813238144 | Test Loss:0.09589985013008118\n",
            "E:198 Train Loss:0.05393756926059723 | Test Loss:0.03890763223171234\n",
            "E:199 Train Loss:0.061272408813238144 | Test Loss:0.09589985013008118\n",
            "E:201 Train Loss:0.061272408813238144 | Test Loss:0.09589985013008118\n",
            "E:202 Train Loss:0.05393756926059723 | Test Loss:0.03890763223171234\n",
            "E:203 Train Loss:0.061272408813238144 | Test Loss:0.09589985013008118\n",
            "E:204 Train Loss:0.05393756926059723 | Test Loss:0.03890763223171234\n",
            "E:205 Train Loss:0.061272408813238144 | Test Loss:0.09589985013008118\n",
            "E:206 Train Loss:0.05393756926059723 | Test Loss:0.03890763223171234\n",
            "E:207 Train Loss:0.061272408813238144 | Test Loss:0.09589985013008118\n",
            "E:208 Train Loss:0.05393756926059723 | Test Loss:0.03890763223171234\n",
            "E:209 Train Loss:0.061272408813238144 | Test Loss:0.09589985013008118\n",
            "E:210 Train Loss:0.05393756926059723 | Test Loss:0.03890763223171234\n",
            "E:211 Train Loss:0.061272408813238144 | Test Loss:0.09589985013008118\n",
            "E:212 Train Loss:0.05393756926059723 | Test Loss:0.03890763223171234\n",
            "E:213 Train Loss:0.061272408813238144 | Test Loss:0.09589985013008118\n",
            "E:214 Train Loss:0.05393756926059723 | Test Loss:0.03890763223171234\n",
            "E:215 Train Loss:0.061272408813238144 | Test Loss:0.09589985013008118\n",
            "E:216 Train Loss:0.05393756926059723 | Test Loss:0.03890763223171234\n",
            "E:217 Train Loss:0.061272408813238144 | Test Loss:0.09589985013008118\n",
            "E:218 Train Loss:0.05393756926059723 | Test Loss:0.03890763223171234\n",
            "E:219 Train Loss:0.061272408813238144 | Test Loss:0.09589985013008118\n",
            "E:221 Train Loss:0.061272408813238144 | Test Loss:0.09589985013008118\n",
            "E:222 Train Loss:0.05393756926059723 | Test Loss:0.03890763223171234\n",
            "E:223 Train Loss:0.061272408813238144 | Test Loss:0.09589985013008118\n",
            "E:224 Train Loss:0.05393756926059723 | Test Loss:0.03890763223171234\n",
            "E:225 Train Loss:0.061272408813238144 | Test Loss:0.09589985013008118\n",
            "E:226 Train Loss:0.05393756926059723 | Test Loss:0.03890763223171234\n",
            "E:227 Train Loss:0.061272408813238144 | Test Loss:0.09589985013008118\n",
            "E:228 Train Loss:0.05393756926059723 | Test Loss:0.03890763223171234\n",
            "E:229 Train Loss:0.061272408813238144 | Test Loss:0.09589985013008118\n",
            "E:230 Train Loss:0.05393756926059723 | Test Loss:0.03890763223171234\n",
            "E:231 Train Loss:0.061272408813238144 | Test Loss:0.09589985013008118\n",
            "E:232 Train Loss:0.05393756926059723 | Test Loss:0.03890763223171234\n",
            "E:233 Train Loss:0.061272408813238144 | Test Loss:0.09589985013008118\n",
            "E:234 Train Loss:0.05393756926059723 | Test Loss:0.03890763223171234\n",
            "E:235 Train Loss:0.061272408813238144 | Test Loss:0.09589985013008118\n",
            "E:236 Train Loss:0.05393756926059723 | Test Loss:0.03890763223171234\n",
            "E:237 Train Loss:0.061272408813238144 | Test Loss:0.09589985013008118\n",
            "E:238 Train Loss:0.05393756926059723 | Test Loss:0.03890763223171234\n",
            "E:239 Train Loss:0.061272408813238144 | Test Loss:0.09589985013008118\n",
            "E:241 Train Loss:0.061272408813238144 | Test Loss:0.09589985013008118\n",
            "E:242 Train Loss:0.05393756926059723 | Test Loss:0.03890763223171234\n",
            "E:243 Train Loss:0.061272408813238144 | Test Loss:0.09589985013008118\n",
            "E:244 Train Loss:0.05393756926059723 | Test Loss:0.03890763223171234\n",
            "E:245 Train Loss:0.061272408813238144 | Test Loss:0.09589985013008118\n",
            "E:246 Train Loss:0.05393756926059723 | Test Loss:0.03890763223171234\n",
            "E:247 Train Loss:0.061272408813238144 | Test Loss:0.09589985013008118\n",
            "E:248 Train Loss:0.05393756926059723 | Test Loss:0.03890763223171234\n",
            "E:249 Train Loss:0.061272408813238144 | Test Loss:0.09589985013008118\n",
            "E:250 Train Loss:0.05393756926059723 | Test Loss:0.03890763223171234\n",
            "E:251 Train Loss:0.061272408813238144 | Test Loss:0.09589985013008118\n",
            "E:252 Train Loss:0.05393756926059723 | Test Loss:0.03890763223171234\n",
            "E:253 Train Loss:0.061272408813238144 | Test Loss:0.09589985013008118\n",
            "E:254 Train Loss:0.05393756926059723 | Test Loss:0.03890763223171234\n",
            "E:255 Train Loss:0.061272408813238144 | Test Loss:0.09589985013008118\n",
            "E:256 Train Loss:0.05393756926059723 | Test Loss:0.03890763223171234\n",
            "E:257 Train Loss:0.061272408813238144 | Test Loss:0.09589985013008118\n",
            "E:258 Train Loss:0.05393756926059723 | Test Loss:0.03890763223171234\n",
            "E:259 Train Loss:0.061272408813238144 | Test Loss:0.09589985013008118\n",
            "E:261 Train Loss:0.061272408813238144 | Test Loss:0.09589985013008118\n",
            "E:262 Train Loss:0.05393756926059723 | Test Loss:0.03890763223171234\n",
            "E:263 Train Loss:0.061272408813238144 | Test Loss:0.09589985013008118\n",
            "E:264 Train Loss:0.05393756926059723 | Test Loss:0.03890763223171234\n",
            "E:265 Train Loss:0.061272408813238144 | Test Loss:0.09589985013008118\n",
            "E:266 Train Loss:0.05393756926059723 | Test Loss:0.03890763223171234\n",
            "E:267 Train Loss:0.061272408813238144 | Test Loss:0.09589985013008118\n",
            "E:268 Train Loss:0.05393756926059723 | Test Loss:0.03890763223171234\n",
            "E:269 Train Loss:0.061272408813238144 | Test Loss:0.09589985013008118\n",
            "E:270 Train Loss:0.05393756926059723 | Test Loss:0.03890763223171234\n",
            "E:271 Train Loss:0.061272408813238144 | Test Loss:0.09589985013008118\n",
            "E:272 Train Loss:0.05393756926059723 | Test Loss:0.03890763223171234\n",
            "E:273 Train Loss:0.061272408813238144 | Test Loss:0.09589985013008118\n",
            "E:274 Train Loss:0.05393756926059723 | Test Loss:0.03890763223171234\n",
            "E:275 Train Loss:0.061272408813238144 | Test Loss:0.09589985013008118\n",
            "E:276 Train Loss:0.05393756926059723 | Test Loss:0.03890763223171234\n",
            "E:277 Train Loss:0.061272408813238144 | Test Loss:0.09589985013008118\n",
            "E:278 Train Loss:0.05393756926059723 | Test Loss:0.03890763223171234\n",
            "E:279 Train Loss:0.061272408813238144 | Test Loss:0.09589985013008118\n",
            "E:281 Train Loss:0.061272408813238144 | Test Loss:0.09589985013008118\n",
            "E:282 Train Loss:0.05393756926059723 | Test Loss:0.03890763223171234\n",
            "E:283 Train Loss:0.061272408813238144 | Test Loss:0.09589985013008118\n",
            "E:284 Train Loss:0.05393756926059723 | Test Loss:0.03890763223171234\n",
            "E:285 Train Loss:0.061272408813238144 | Test Loss:0.09589985013008118\n",
            "E:286 Train Loss:0.05393756926059723 | Test Loss:0.03890763223171234\n",
            "E:287 Train Loss:0.061272408813238144 | Test Loss:0.09589985013008118\n",
            "E:288 Train Loss:0.05393756926059723 | Test Loss:0.03890763223171234\n",
            "E:289 Train Loss:0.061272408813238144 | Test Loss:0.09589985013008118\n",
            "E:290 Train Loss:0.05393756926059723 | Test Loss:0.03890763223171234\n",
            "E:291 Train Loss:0.061272408813238144 | Test Loss:0.09589985013008118\n",
            "E:292 Train Loss:0.05393756926059723 | Test Loss:0.03890763223171234\n",
            "E:293 Train Loss:0.061272408813238144 | Test Loss:0.09589985013008118\n",
            "E:294 Train Loss:0.05393756926059723 | Test Loss:0.03890763223171234\n",
            "E:295 Train Loss:0.061272408813238144 | Test Loss:0.09589985013008118\n",
            "E:296 Train Loss:0.05393756926059723 | Test Loss:0.03890763223171234\n",
            "E:297 Train Loss:0.061272408813238144 | Test Loss:0.09589985013008118\n",
            "E:298 Train Loss:0.05393756926059723 | Test Loss:0.03890763223171234\n",
            "E:299 Train Loss:0.061272408813238144 | Test Loss:0.09589985013008118\n"
          ]
        }
      ]
    },
    {
      "cell_type": "code",
      "source": [
        "model_1.state_dict()"
      ],
      "metadata": {
        "colab": {
          "base_uri": "https://localhost:8080/"
        },
        "id": "PdRCMZbY67Fd",
        "outputId": "73389cff-ccbc-4d78-88be-9d5105c9ce2e"
      },
      "execution_count": 32,
      "outputs": [
        {
          "output_type": "execute_result",
          "data": {
            "text/plain": [
              "OrderedDict([('linear_layer.weight', tensor([[0.8165]], device='cuda:0')),\n",
              "             ('linear_layer.bias', tensor([0.3786], device='cuda:0'))])"
            ]
          },
          "metadata": {},
          "execution_count": 32
        }
      ]
    },
    {
      "cell_type": "code",
      "source": [
        "weight, bias"
      ],
      "metadata": {
        "colab": {
          "base_uri": "https://localhost:8080/"
        },
        "id": "z5B8F9b27LOf",
        "outputId": "f7e63eb9-3aaa-4c8a-ad2e-0bf814f396a3"
      },
      "execution_count": 33,
      "outputs": [
        {
          "output_type": "execute_result",
          "data": {
            "text/plain": [
              "(0.9, 0.4)"
            ]
          },
          "metadata": {},
          "execution_count": 33
        }
      ]
    },
    {
      "cell_type": "code",
      "source": [
        "# test and plot\n",
        "model_1.eval()\n",
        "with torch.inference_mode():\n",
        "  test_y_preds = model_1(X_test)\n",
        "\n",
        "\n",
        "plot_prediction(X_train.cpu(), y_train.cpu(), X_test.cpu(), y_test.cpu(), predictions=torch.Tensor(test_y_preds.cpu()))"
      ],
      "metadata": {
        "colab": {
          "base_uri": "https://localhost:8080/",
          "height": 291
        },
        "id": "DX7ThFlb7N36",
        "outputId": "c5da03fc-b5aa-4548-d6c8-8ae5660ed14f"
      },
      "execution_count": 34,
      "outputs": [
        {
          "output_type": "display_data",
          "data": {
            "text/plain": [
              "<Figure size 500x300 with 1 Axes>"
            ],
            "image/png": "[encoded data removed]"
          },
          "metadata": {}
        }
      ]
    },
    {
      "cell_type": "code",
      "source": [
        "from pathlib import Path\n",
        "MPath = Path(\"/content/drive/MyDrive/Colab Notebooks/models\")\n",
        "MPath.mkdir(parents=True, exist_ok=True)\n",
        "\n",
        "MName = \"01_pytorch_workflow_model_x.pth\"\n",
        "MSavePath = MPath / MName\n",
        "\n",
        "print(f\"Saving model to: {MSavePath}\")\n",
        "torch.save(obj=model_1.state_dict(),\n",
        "           f=MSavePath)"
      ],
      "metadata": {
        "id": "ui1gEpg3AVZK",
        "colab": {
          "base_uri": "https://localhost:8080/"
        },
        "outputId": "70d941be-9f74-45dc-fa8e-1b7a302d5634"
      },
      "execution_count": 38,
      "outputs": [
        {
          "output_type": "stream",
          "name": "stdout",
          "text": [
            "Saving model to: /content/drive/MyDrive/Colab Notebooks/models/01_pytorch_workflow_model_x.pth\n"
          ]
        }
      ]
    },
    {
      "cell_type": "code",
      "source": [
        "# load a pytorch model\n",
        "\n",
        "## new instance\n",
        "lmodelx = LinearRegressionModelX()\n",
        "## load state dict\n",
        "lmodelx.load_state_dict(torch.load(MSavePath))"
      ],
      "metadata": {
        "colab": {
          "base_uri": "https://localhost:8080/"
        },
        "id": "LtR_MSRwJXhP",
        "outputId": "9303673e-c30c-417e-bcb1-f3c8fcc52eb9"
      },
      "execution_count": 41,
      "outputs": [
        {
          "output_type": "execute_result",
          "data": {
            "text/plain": [
              "<All keys matched successfully>"
            ]
          },
          "metadata": {},
          "execution_count": 41
        }
      ]
    },
    {
      "cell_type": "code",
      "source": [
        "lmodelx.state_dict()\n",
        "lmodelx.to(device)"
      ],
      "metadata": {
        "colab": {
          "base_uri": "https://localhost:8080/"
        },
        "id": "xLLVPmO6KAOO",
        "outputId": "63937dc2-3d04-4953-c0d4-48023226b997"
      },
      "execution_count": 43,
      "outputs": [
        {
          "output_type": "execute_result",
          "data": {
            "text/plain": [
              "LinearRegressionModelX(\n",
              "  (linear_layer): Linear(in_features=1, out_features=1, bias=True)\n",
              ")"
            ]
          },
          "metadata": {},
          "execution_count": 43
        }
      ]
    },
    {
      "cell_type": "code",
      "source": [
        "lmodelx.eval()\n",
        "with torch.inference_mode():\n",
        "  lmodelx_preds = lmodelx(X_test)\n",
        "\n",
        "test_y_preds == lmodelx_preds"
      ],
      "metadata": {
        "colab": {
          "base_uri": "https://localhost:8080/"
        },
        "id": "8Tz5c3p5KXD7",
        "outputId": "de86d2a7-93de-43e0-9917-82dda40b5343"
      },
      "execution_count": 44,
      "outputs": [
        {
          "output_type": "execute_result",
          "data": {
            "text/plain": [
              "tensor([[True],\n",
              "        [True],\n",
              "        [True],\n",
              "        [True],\n",
              "        [True],\n",
              "        [True],\n",
              "        [True],\n",
              "        [True],\n",
              "        [True],\n",
              "        [True],\n",
              "        [True],\n",
              "        [True],\n",
              "        [True],\n",
              "        [True]], device='cuda:0')"
            ]
          },
          "metadata": {},
          "execution_count": 44
        }
      ]
    },
    {
      "cell_type": "code",
      "source": [],
      "metadata": {
        "id": "N8IzMZq4K2ZO"
      },
      "execution_count": null,
      "outputs": []
    }
  ]
}